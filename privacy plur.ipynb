{
 "cells": [
  {
   "cell_type": "code",
   "execution_count": null,
   "id": "0ea474f0-db1c-4c67-aed7-cd51f2c3f547",
   "metadata": {},
   "outputs": [],
   "source": [
    "pip install facenet-pytorch"
   ]
  },
  {
   "cell_type": "code",
   "execution_count": null,
   "id": "b1e3d0bc-4501-47f5-85e7-4aef86c56d08",
   "metadata": {},
   "outputs": [],
   "source": [
    "import os\n",
    "import shutil\n",
    "import tkinter as tk\n",
    "from tkinter import filedialog\n",
    "\n",
    "def reload_sample_folder(sample_dir='sample'):\n",
    "    \"\"\"\n",
    "    sample_dir 폴더 내 삭제 가능한 파일들만 지운 뒤,\n",
    "    파일 선택 대화상자로 고른 이미지들을 모두 복사해 넣습니다.\n",
    "    \"\"\"\n",
    "    os.makedirs(sample_dir, exist_ok=True)\n",
    "\n",
    "    # 기존 파일 삭제 시도\n",
    "    for fname in os.listdir(sample_dir):\n",
    "        fp = os.path.join(sample_dir, fname)\n",
    "        try:\n",
    "            os.remove(fp)\n",
    "            print(f\"[Info] 삭제: {fp}\")\n",
    "        except Exception as e:\n",
    "            print(f\"[Warning] 삭제 실패(잠금?): {fp} ({e})\")\n",
    "\n",
    "    # 파일 선택\n",
    "    root = tk.Tk()\n",
    "    root.withdraw()\n",
    "    paths = filedialog.askopenfilenames(\n",
    "        title=\"타깃 인물 샘플 이미지를 다시 선택하세요\",\n",
    "        filetypes=[(\"Image files\",\"*.jpg *.jpeg *.png\"), (\"All files\",\"*.*\")]\n",
    "    )\n",
    "    if not paths:\n",
    "        print(\"[Warning] 이미지가 선택되지 않았습니다.\")\n",
    "        return\n",
    "\n",
    "    # 선택된 파일 복사\n",
    "    for src in paths:\n",
    "        dst = os.path.join(sample_dir, os.path.basename(src))\n",
    "        shutil.copy(src, dst)\n",
    "        print(f\"[Info] 복사: {src} → {dst}\")\n",
    "\n",
    "    print(f\"[Info] '{sample_dir}' 폴더에 {len(paths)}개 파일을 업로드했습니다.\")\n",
    "\n",
    "# 사용 예시: 스크립트 시작 부분에 호출\n",
    "if __name__ == '__main__':\n",
    "    reload_sample_folder()  # sample/ 폴더 재업로드\n",
    "    # …이어서 나머지 파이프라인 코드…"
   ]
  },
  {
   "cell_type": "code",
   "execution_count": null,
   "id": "9a475d11-951e-4ae1-8502-dad127335127",
   "metadata": {},
   "outputs": [],
   "source": [
    "# 노트북 셀에서 실행할 때\n",
    "!conda install -c conda-forge opencv -y\n",
    "!pip install facenet-pytorch torch torchvision pillow"
   ]
  },
  {
   "cell_type": "code",
   "execution_count": null,
   "id": "a818b044-6abf-4d03-858e-b704ca96aa9c",
   "metadata": {},
   "outputs": [],
   "source": []
  }
 ],
 "metadata": {
  "kernelspec": {
   "display_name": "Python 3 (ipykernel)",
   "language": "python",
   "name": "python3"
  },
  "language_info": {
   "codemirror_mode": {
    "name": "ipython",
    "version": 3
   },
   "file_extension": ".py",
   "mimetype": "text/x-python",
   "name": "python",
   "nbconvert_exporter": "python",
   "pygments_lexer": "ipython3",
   "version": "3.12.3"
  }
 },
 "nbformat": 4,
 "nbformat_minor": 5
}
